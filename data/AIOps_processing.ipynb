{
 "cells": [
  {
   "cell_type": "code",
   "execution_count": 1,
   "id": "0cdf5a52-9860-45b3-94f7-8281ad405c08",
   "metadata": {},
   "outputs": [],
   "source": [
    "import pandas as pd\n",
    "import numpy as np\n",
    "import os\n",
    "os.chdir(r'D:\\lym本科\\科研相关\\华为项目资料\\2025-1-23\\Encoder_PELT')   # set as your own working directory"
   ]
  },
  {
   "cell_type": "code",
   "execution_count": 12,
   "id": "2d65644e-f1ab-4300-b360-f2e46691d3a6",
   "metadata": {},
   "outputs": [
    {
     "name": "stdout",
     "output_type": "stream",
     "text": [
      "Different KPI ID Numbers: 26\n",
      "\n",
      " KPI ID's Information:\n",
      "                  Samples  Anomalies Anomaly rate\n",
      "KPI ID                                           \n",
      "02e99bd4f6cfb33f   128562      10550        8.21%\n",
      "046ec29ddf80d62e     8784         80        0.91%\n",
      "07927a9a18fa19ae    10960        130        1.19%\n",
      "09513ae3e75778a3   128971        238        0.18%\n",
      "18fbb1d5a5dc099d   129128       7863        6.09%\n",
      "1c35dbf57f55f5e4   128853       9581        7.44%\n",
      "40e25005ff8992bd   100254        654        0.65%\n",
      "54e8a140f6237526     8248          4        0.05%\n",
      "71595dd7171f4540   147668       1113        0.75%\n",
      "769894baefea4e9e     8784          9        0.10%\n",
      "76f4550c43334374     8784         87        0.99%\n",
      "7c189dd36f048a6c   147689        426        0.29%\n",
      "88cf3a776ba00e7c    65436       3106        4.75%\n",
      "8a20c229e9860d0c     8784          4        0.05%\n",
      "8bef9af9a922e0b3   129453        527        0.41%\n",
      "8c892e5525f3e491   147009       3083        2.10%\n",
      "9bd90500bfd11edb   128613        143        0.11%\n",
      "9ee5879409dccef9    65449       2945        4.50%\n",
      "a40b1df87e3f1c87   137925        381        0.28%\n",
      "a5bf5d65261d859a   128679         29        0.02%\n",
      "affb01ca2b4f0b45   147680        584        0.40%\n",
      "b3b2e6d1a791d63a     8247         12        0.15%\n",
      "c58bfcbacb2822d1   128667        124        0.10%\n",
      "cff6d3c01e6a6bfa   147629       1087        0.74%\n",
      "da403e4e3f87c9e0   129035       7666        5.94%\n",
      "e0770391decc44ce   147024       3074        2.09%\n",
      "\n",
      " Anomaly Rate of Total Dataset: 2.16%\n"
     ]
    }
   ],
   "source": [
    "df = pd.read_csv(f'./data/AIOps/train.csv')   # set as your own working directory\n",
    "\n",
    "df.columns = df.columns.str.strip()\n",
    "\n",
    "unique_kpi_ids = df['KPI ID'].nunique()\n",
    "\n",
    "label_sums = df.groupby('KPI ID')['label'].sum().astype(int)\n",
    "\n",
    "sample_counts = df['KPI ID'].value_counts().sort_index()\n",
    "\n",
    "label_1_ratio = df['label'].mean()\n",
    "\n",
    "print(f\"Different KPI ID Numbers: {unique_kpi_ids}\")\n",
    "print(\"\\n KPI ID's Information:\")\n",
    "print(pd.DataFrame({\n",
    "    'Samples': sample_counts,\n",
    "    'Anomalies': label_sums,\n",
    "    'Anomaly rate': (label_sums / sample_counts).map(\"{:.2%}\".format)\n",
    "}))\n",
    "print(f\"\\n Anomaly Rate of Total Dataset: {label_1_ratio:.2%}\")"
   ]
  },
  {
   "cell_type": "code",
   "execution_count": 3,
   "id": "14ef65d5-f082-48e9-b5e4-3eef6767ca7a",
   "metadata": {},
   "outputs": [],
   "source": [
    "def create_windows(data, window_size):\n",
    "    windows = []\n",
    "    for i in range(len(data) - window_size + 1):\n",
    "        window = data[i:i+window_size,:]\n",
    "        windows.append(window)\n",
    "    return np.array(windows)"
   ]
  },
  {
   "cell_type": "code",
   "execution_count": 4,
   "id": "9c8f1410-049e-4d30-acba-27a8c740af98",
   "metadata": {},
   "outputs": [],
   "source": [
    "test_kpi_ids = [\n",
    "    '046ec29ddf80d62e',\n",
    "    '07927a9a18fa19ae',\n",
    "    '76f4550c43334374',\n",
    "    '88cf3a776ba00e7c',\n",
    "    'b3b2e6d1a791d63a'\n",
    "]\n",
    "\n",
    "test_mask = df['KPI ID'].isin(test_kpi_ids)\n",
    "test_features = df[test_mask][['value']].values \n",
    "test_labels = df[test_mask]['label'].values \n",
    "anomaly_indices = np.where(test_labels == 1)[0]\n",
    "\n",
    "\n",
    "train_mask = (df['KPI ID'] == '02e99bd4f6cfb33f')\n",
    "train_candidate = df[train_mask].head(1001)\n",
    "if train_candidate['label'].sum() == 0:\n",
    "    train_features = train_candidate[['value']].values\n",
    "else:\n",
    "    raise ValueError(\"Having anomalies!!!\")"
   ]
  },
  {
   "cell_type": "code",
   "execution_count": 5,
   "id": "ca6ebe22-de52-463b-a3a0-476d342cfb8f",
   "metadata": {},
   "outputs": [
    {
     "name": "stdout",
     "output_type": "stream",
     "text": [
      "train_window: (992, 10)\n",
      "test_window: (102202, 10)\n",
      "test_label_window: (102202,)\n"
     ]
    }
   ],
   "source": [
    "window_size = 10\n",
    "train_window = create_windows(train_features, window_size)\n",
    "train_window = np.squeeze(train_window)\n",
    "test_window = create_windows(test_features, window_size)\n",
    "test_window = np.squeeze(test_window)\n",
    "test_label_window = test_labels[window_size-1:]\n",
    "print(\"train_window:\",train_window.shape)\n",
    "print(\"test_window:\",test_window.shape)\n",
    "print(\"test_label_window:\",test_label_window.shape)\n",
    "\n",
    "np.save(f'./data/AIOps/train_10.npy', train_window)\n",
    "np.save(f'./data/AIOps/test_10.npy', test_window)\n",
    "np.save(f'./data/AIOps/test_label_10.npy', test_label_window)"
   ]
  },
  {
   "cell_type": "code",
   "execution_count": 9,
   "id": "86dd06f9-0903-43ea-8a42-e62d4c5f39f8",
   "metadata": {},
   "outputs": [
    {
     "name": "stdout",
     "output_type": "stream",
     "text": [
      "train_window: (992, 10)\n",
      "test_window: (395318, 10)\n",
      "test_label_window: (395318,)\n"
     ]
    }
   ],
   "source": [
    "test_kpi_ids = [\n",
    "    '02e99bd4f6cfb33f',\n",
    "    '18fbb1d5a5dc099d',\n",
    "    '1c35dbf57f55f5e4',\n",
    "    '8a20c229e9860d0c'\n",
    "]\n",
    "\n",
    "test_mask = df['KPI ID'].isin(test_kpi_ids)\n",
    "test_features = df[test_mask][['value']].values\n",
    "test_labels = df[test_mask]['label'].values\n",
    "anomaly_indices = np.where(test_labels == 1)[0]\n",
    "\n",
    "train_mask = (df['KPI ID'] == '02e99bd4f6cfb33f')\n",
    "train_candidate = df[train_mask].head(1001)\n",
    "if train_candidate['label'].sum() == 0:\n",
    "    train_features = train_candidate[['value']].values\n",
    "else:\n",
    "    raise ValueError(\"Having anomalies!!!\")\n",
    "\n",
    "window_size = 10\n",
    "train_window = create_windows(train_features, window_size)\n",
    "train_window = np.squeeze(train_window)\n",
    "# train_window = train_window.reshape(train_window.shape[0],1)\n",
    "test_window = create_windows(test_features, window_size)\n",
    "test_window = np.squeeze(test_window)\n",
    "# test_window = test_window.reshape(test_window.shape[0],1)\n",
    "test_label_window = test_labels[window_size-1:]\n",
    "print(\"train_window:\",train_window.shape)\n",
    "print(\"test_window:\",test_window.shape)\n",
    "print(\"test_label_window:\",test_label_window.shape)\n",
    "\n",
    "np.save(f'./data/AIOps/train_10_v2.npy', train_window)\n",
    "np.save(f'./data/AIOps/test_10_v2.npy', test_window)\n",
    "np.save(f'./data/AIOps/test_label_10_v2.npy', test_label_window)"
   ]
  },
  {
   "cell_type": "code",
   "execution_count": 11,
   "id": "762baaab-8168-4fb0-bfbc-972de0ce9536",
   "metadata": {},
   "outputs": [
    {
     "name": "stdout",
     "output_type": "stream",
     "text": [
      "train_window: (992, 10)\n",
      "test_window: (552346, 10)\n",
      "test_label_window: (552346,)\n"
     ]
    }
   ],
   "source": [
    "test_kpi_ids = [\n",
    "    'c58bfcbacb2822d1',\n",
    "    'cff6d3c01e6a6bfa',\n",
    "    'da403e4e3f87c9e0',\n",
    "    'e0770391decc44ce'\n",
    "]\n",
    "\n",
    "test_mask = df['KPI ID'].isin(test_kpi_ids)\n",
    "test_features = df[test_mask][['value']].values\n",
    "test_labels = df[test_mask]['label'].values\n",
    "anomaly_indices = np.where(test_labels == 1)[0]\n",
    "\n",
    "train_mask = (df['KPI ID'] == '02e99bd4f6cfb33f')\n",
    "train_candidate = df[train_mask].head(1001)\n",
    "if train_candidate['label'].sum() == 0:\n",
    "    train_features = train_candidate[['value']].values\n",
    "else:\n",
    "    raise ValueError(\"Having anomalies!!!\")\n",
    "\n",
    "window_size = 10\n",
    "train_window = create_windows(train_features, window_size)\n",
    "train_window = np.squeeze(train_window)\n",
    "# train_window = train_window.reshape(train_window.shape[0],1)\n",
    "test_window = create_windows(test_features, window_size)\n",
    "test_window = np.squeeze(test_window)\n",
    "# test_window = test_window.reshape(test_window.shape[0],1)\n",
    "test_label_window = test_labels[window_size-1:]\n",
    "print(\"train_window:\",train_window.shape)\n",
    "print(\"test_window:\",test_window.shape)\n",
    "print(\"test_label_window:\",test_label_window.shape)\n",
    "\n",
    "np.save(f'./data/AIOps/train_10_v3.npy', train_window)\n",
    "np.save(f'./data/AIOps/test_10_v3.npy', test_window)\n",
    "np.save(f'./data/AIOps/test_label_10_v3.npy', test_label_window)"
   ]
  },
  {
   "cell_type": "code",
   "execution_count": null,
   "id": "47811b40-1ec3-4e75-8901-3e477504c381",
   "metadata": {},
   "outputs": [],
   "source": []
  }
 ],
 "metadata": {
  "kernelspec": {
   "display_name": "Python 3 (ipykernel)",
   "language": "python",
   "name": "python3"
  },
  "language_info": {
   "codemirror_mode": {
    "name": "ipython",
    "version": 3
   },
   "file_extension": ".py",
   "mimetype": "text/x-python",
   "name": "python",
   "nbconvert_exporter": "python",
   "pygments_lexer": "ipython3",
   "version": "3.8.0"
  }
 },
 "nbformat": 4,
 "nbformat_minor": 5
}
